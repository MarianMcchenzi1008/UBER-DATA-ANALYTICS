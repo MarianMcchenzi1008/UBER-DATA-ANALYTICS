{
 "cells": [
  {
   "cell_type": "markdown",
   "id": "1728fe44-13cb-4386-901a-4ea833861b0d",
   "metadata": {},
   "source": [
    "**# DATAFRAME**\n",
    "\n",
    "Import the required libraries"
   ]
  },
  {
   "cell_type": "code",
   "execution_count": 344,
   "id": "f15d2f8a-b44d-4123-a6b7-af8212042e11",
   "metadata": {},
   "outputs": [],
   "source": [
    "import numpy as np\n",
    "import pandas as pd"
   ]
  },
  {
   "cell_type": "code",
   "execution_count": 346,
   "id": "e9449c47-3702-4ed0-bc83-5130793665bc",
   "metadata": {},
   "outputs": [],
   "source": [
    "import seaborn as sns\n",
    "import matplotlib.pyplot as plt"
   ]
  },
  {
   "cell_type": "markdown",
   "id": "278e2bae-0d4d-4d59-ac32-26e4f34d6d6b",
   "metadata": {},
   "source": [
    "For ploting in jupyter the '%matplotlib inline' statement is must"
   ]
  },
  {
   "cell_type": "code",
   "execution_count": 349,
   "id": "85c6cf15-e1ea-4fd1-8ecd-c3fff2104e07",
   "metadata": {},
   "outputs": [],
   "source": [
    "%matplotlib inline"
   ]
  },
  {
   "cell_type": "markdown",
   "id": "8a9bc731-cca0-4239-bf50-d987f311ca52",
   "metadata": {},
   "source": [
    "Import the uber dataframe (UberDataset.csv)"
   ]
  },
  {
   "cell_type": "code",
   "execution_count": 352,
   "id": "1d10f15d-16ea-4e67-a109-e81703e6be8c",
   "metadata": {},
   "outputs": [],
   "source": [
    "uber=pd.read_csv('UberDataset.csv')"
   ]
  },
  {
   "cell_type": "code",
   "execution_count": 354,
   "id": "99a966f1-b5c8-4841-b1e5-589541006e7e",
   "metadata": {},
   "outputs": [
    {
     "data": {
      "text/html": [
       "<div>\n",
       "<style scoped>\n",
       "    .dataframe tbody tr th:only-of-type {\n",
       "        vertical-align: middle;\n",
       "    }\n",
       "\n",
       "    .dataframe tbody tr th {\n",
       "        vertical-align: top;\n",
       "    }\n",
       "\n",
       "    .dataframe thead th {\n",
       "        text-align: right;\n",
       "    }\n",
       "</style>\n",
       "<table border=\"1\" class=\"dataframe\">\n",
       "  <thead>\n",
       "    <tr style=\"text-align: right;\">\n",
       "      <th></th>\n",
       "      <th>START_DATE</th>\n",
       "      <th>END_DATE</th>\n",
       "      <th>CATEGORY</th>\n",
       "      <th>START</th>\n",
       "      <th>STOP</th>\n",
       "      <th>MILES</th>\n",
       "      <th>PURPOSE</th>\n",
       "    </tr>\n",
       "  </thead>\n",
       "  <tbody>\n",
       "    <tr>\n",
       "      <th>0</th>\n",
       "      <td>01-01-2016 21:11</td>\n",
       "      <td>01-01-2016 21:17</td>\n",
       "      <td>Business</td>\n",
       "      <td>Fort Pierce</td>\n",
       "      <td>Fort Pierce</td>\n",
       "      <td>5.1</td>\n",
       "      <td>Meal/Entertain</td>\n",
       "    </tr>\n",
       "    <tr>\n",
       "      <th>1</th>\n",
       "      <td>01-02-2016 01:25</td>\n",
       "      <td>01-02-2016 01:37</td>\n",
       "      <td>Business</td>\n",
       "      <td>Fort Pierce</td>\n",
       "      <td>Fort Pierce</td>\n",
       "      <td>5.0</td>\n",
       "      <td>NaN</td>\n",
       "    </tr>\n",
       "    <tr>\n",
       "      <th>2</th>\n",
       "      <td>01-02-2016 20:25</td>\n",
       "      <td>01-02-2016 20:38</td>\n",
       "      <td>Business</td>\n",
       "      <td>Fort Pierce</td>\n",
       "      <td>Fort Pierce</td>\n",
       "      <td>4.8</td>\n",
       "      <td>Errand/Supplies</td>\n",
       "    </tr>\n",
       "    <tr>\n",
       "      <th>3</th>\n",
       "      <td>01-05-2016 17:31</td>\n",
       "      <td>01-05-2016 17:45</td>\n",
       "      <td>Business</td>\n",
       "      <td>Fort Pierce</td>\n",
       "      <td>Fort Pierce</td>\n",
       "      <td>4.7</td>\n",
       "      <td>Meeting</td>\n",
       "    </tr>\n",
       "    <tr>\n",
       "      <th>4</th>\n",
       "      <td>01-06-2016 14:42</td>\n",
       "      <td>01-06-2016 15:49</td>\n",
       "      <td>Business</td>\n",
       "      <td>Fort Pierce</td>\n",
       "      <td>West Palm Beach</td>\n",
       "      <td>63.7</td>\n",
       "      <td>Customer Visit</td>\n",
       "    </tr>\n",
       "    <tr>\n",
       "      <th>...</th>\n",
       "      <td>...</td>\n",
       "      <td>...</td>\n",
       "      <td>...</td>\n",
       "      <td>...</td>\n",
       "      <td>...</td>\n",
       "      <td>...</td>\n",
       "      <td>...</td>\n",
       "    </tr>\n",
       "    <tr>\n",
       "      <th>1151</th>\n",
       "      <td>12/31/2016 13:24</td>\n",
       "      <td>12/31/2016 13:42</td>\n",
       "      <td>Business</td>\n",
       "      <td>Kar?chi</td>\n",
       "      <td>Unknown Location</td>\n",
       "      <td>3.9</td>\n",
       "      <td>Temporary Site</td>\n",
       "    </tr>\n",
       "    <tr>\n",
       "      <th>1152</th>\n",
       "      <td>12/31/2016 15:03</td>\n",
       "      <td>12/31/2016 15:38</td>\n",
       "      <td>Business</td>\n",
       "      <td>Unknown Location</td>\n",
       "      <td>Unknown Location</td>\n",
       "      <td>16.2</td>\n",
       "      <td>Meeting</td>\n",
       "    </tr>\n",
       "    <tr>\n",
       "      <th>1153</th>\n",
       "      <td>12/31/2016 21:32</td>\n",
       "      <td>12/31/2016 21:50</td>\n",
       "      <td>Business</td>\n",
       "      <td>Katunayake</td>\n",
       "      <td>Gampaha</td>\n",
       "      <td>6.4</td>\n",
       "      <td>Temporary Site</td>\n",
       "    </tr>\n",
       "    <tr>\n",
       "      <th>1154</th>\n",
       "      <td>12/31/2016 22:08</td>\n",
       "      <td>12/31/2016 23:51</td>\n",
       "      <td>Business</td>\n",
       "      <td>Gampaha</td>\n",
       "      <td>Ilukwatta</td>\n",
       "      <td>48.2</td>\n",
       "      <td>Temporary Site</td>\n",
       "    </tr>\n",
       "    <tr>\n",
       "      <th>1155</th>\n",
       "      <td>Totals</td>\n",
       "      <td>NaN</td>\n",
       "      <td>NaN</td>\n",
       "      <td>NaN</td>\n",
       "      <td>NaN</td>\n",
       "      <td>12204.7</td>\n",
       "      <td>NaN</td>\n",
       "    </tr>\n",
       "  </tbody>\n",
       "</table>\n",
       "<p>1156 rows × 7 columns</p>\n",
       "</div>"
      ],
      "text/plain": [
       "            START_DATE          END_DATE  CATEGORY             START  \\\n",
       "0     01-01-2016 21:11  01-01-2016 21:17  Business       Fort Pierce   \n",
       "1     01-02-2016 01:25  01-02-2016 01:37  Business       Fort Pierce   \n",
       "2     01-02-2016 20:25  01-02-2016 20:38  Business       Fort Pierce   \n",
       "3     01-05-2016 17:31  01-05-2016 17:45  Business       Fort Pierce   \n",
       "4     01-06-2016 14:42  01-06-2016 15:49  Business       Fort Pierce   \n",
       "...                ...               ...       ...               ...   \n",
       "1151  12/31/2016 13:24  12/31/2016 13:42  Business           Kar?chi   \n",
       "1152  12/31/2016 15:03  12/31/2016 15:38  Business  Unknown Location   \n",
       "1153  12/31/2016 21:32  12/31/2016 21:50  Business        Katunayake   \n",
       "1154  12/31/2016 22:08  12/31/2016 23:51  Business           Gampaha   \n",
       "1155            Totals               NaN       NaN               NaN   \n",
       "\n",
       "                  STOP    MILES          PURPOSE  \n",
       "0          Fort Pierce      5.1   Meal/Entertain  \n",
       "1          Fort Pierce      5.0              NaN  \n",
       "2          Fort Pierce      4.8  Errand/Supplies  \n",
       "3          Fort Pierce      4.7          Meeting  \n",
       "4      West Palm Beach     63.7   Customer Visit  \n",
       "...                ...      ...              ...  \n",
       "1151  Unknown Location      3.9   Temporary Site  \n",
       "1152  Unknown Location     16.2          Meeting  \n",
       "1153           Gampaha      6.4   Temporary Site  \n",
       "1154         Ilukwatta     48.2   Temporary Site  \n",
       "1155               NaN  12204.7              NaN  \n",
       "\n",
       "[1156 rows x 7 columns]"
      ]
     },
     "execution_count": 354,
     "metadata": {},
     "output_type": "execute_result"
    }
   ],
   "source": [
    "uber"
   ]
  },
  {
   "cell_type": "code",
   "execution_count": 356,
   "id": "9335c0d2-a269-440d-b35a-1cefd291b2b0",
   "metadata": {},
   "outputs": [
    {
     "name": "stdout",
     "output_type": "stream",
     "text": [
      "<class 'pandas.core.frame.DataFrame'>\n",
      "RangeIndex: 1156 entries, 0 to 1155\n",
      "Data columns (total 7 columns):\n",
      " #   Column      Non-Null Count  Dtype  \n",
      "---  ------      --------------  -----  \n",
      " 0   START_DATE  1156 non-null   object \n",
      " 1   END_DATE    1155 non-null   object \n",
      " 2   CATEGORY    1155 non-null   object \n",
      " 3   START       1155 non-null   object \n",
      " 4   STOP        1155 non-null   object \n",
      " 5   MILES       1156 non-null   float64\n",
      " 6   PURPOSE     653 non-null    object \n",
      "dtypes: float64(1), object(6)\n",
      "memory usage: 63.3+ KB\n"
     ]
    }
   ],
   "source": [
    "uber.info()"
   ]
  },
  {
   "cell_type": "markdown",
   "id": "08320e8a-028c-4d7c-927e-4db37dc1a9b3",
   "metadata": {},
   "source": [
    "__To see the number of colums present__"
   ]
  },
  {
   "cell_type": "code",
   "execution_count": 359,
   "id": "efa5822b-a3af-4d5e-a2e5-90a17af34be8",
   "metadata": {},
   "outputs": [
    {
     "data": {
      "text/plain": [
       "Index(['START_DATE', 'END_DATE', 'CATEGORY', 'START', 'STOP', 'MILES',\n",
       "       'PURPOSE'],\n",
       "      dtype='object')"
      ]
     },
     "execution_count": 359,
     "metadata": {},
     "output_type": "execute_result"
    }
   ],
   "source": [
    "uber.columns"
   ]
  },
  {
   "cell_type": "markdown",
   "id": "07714510-ab91-4234-8554-5e58dfe32d8f",
   "metadata": {},
   "source": [
    "__To seperate the _year_ and _month_ in the _START_DATE_ and _END_DATE_ column__"
   ]
  },
  {
   "cell_type": "code",
   "execution_count": 362,
   "id": "9b53c02e-86e3-47c9-8909-4d9e6c482a28",
   "metadata": {},
   "outputs": [
    {
     "data": {
      "text/plain": [
       "0       01-01-2016 21:11\n",
       "1       01-02-2016 01:25\n",
       "2       01-02-2016 20:25\n",
       "3       01-05-2016 17:31\n",
       "4       01-06-2016 14:42\n",
       "              ...       \n",
       "1151    12/31/2016 13:24\n",
       "1152    12/31/2016 15:03\n",
       "1153    12/31/2016 21:32\n",
       "1154    12/31/2016 22:08\n",
       "1155              Totals\n",
       "Name: START_DATE, Length: 1156, dtype: object"
      ]
     },
     "execution_count": 362,
     "metadata": {},
     "output_type": "execute_result"
    }
   ],
   "source": [
    "uber['START_DATE']"
   ]
  },
  {
   "cell_type": "code",
   "execution_count": 490,
   "id": "edd4d275-c38a-4312-99e8-3d4aa5f40f83",
   "metadata": {},
   "outputs": [],
   "source": [
    "uber['START_DATE'] = pd.to_datetime(uber['START_DATE'])"
   ]
  },
  {
   "cell_type": "code",
   "execution_count": 494,
   "id": "916f1899-a185-49e1-9981-279f52875afe",
   "metadata": {},
   "outputs": [
    {
     "data": {
      "text/plain": [
       "0      2016-01-01 21:11:00\n",
       "2      2016-01-02 20:25:00\n",
       "3      2016-01-05 17:31:00\n",
       "5      2016-01-06 17:15:00\n",
       "7      2016-01-07 13:27:00\n",
       "65     2016-02-02 13:51:00\n",
       "66     2016-02-02 14:38:00\n",
       "69     2016-02-04 10:26:00\n",
       "70     2016-02-04 15:59:00\n",
       "71     2016-02-04 16:35:00\n",
       "73     2016-02-04 20:36:00\n",
       "188    2016-03-04 15:56:00\n",
       "289    2016-04-01 13:43:00\n",
       "403    2016-06-05 15:57:00\n",
       "516    2016-07-05 16:48:00\n",
       "800    2016-10-09 14:04:00\n",
       "892    2016-11-01 20:41:00\n",
       "1009   2016-12-01 07:44:00\n",
       "1010   2016-12-01 08:37:00\n",
       "1023   2016-12-05 19:22:00\n",
       "1024   2016-12-07 12:03:00\n",
       "1025   2016-12-07 12:35:00\n",
       "1026   2016-12-07 19:53:00\n",
       "1027   2016-12-07 21:13:00\n",
       "1028   2016-12-08 14:19:00\n",
       "1029   2016-12-08 14:53:00\n",
       "1030   2016-12-08 19:22:00\n",
       "1031   2016-12-08 21:26:00\n",
       "1034   2016-12-09 20:11:00\n",
       "1035   2016-12-09 22:03:00\n",
       "1042   2016-12-11 21:48:00\n",
       "1043   2016-12-12 13:22:00\n",
       "Name: START_DATE, dtype: datetime64[ns]"
      ]
     },
     "execution_count": 494,
     "metadata": {},
     "output_type": "execute_result"
    }
   ],
   "source": [
    "uber['START_DATE']"
   ]
  },
  {
   "cell_type": "code",
   "execution_count": 496,
   "id": "6afde5b9-44e9-4e06-9003-725334272b6a",
   "metadata": {},
   "outputs": [],
   "source": [
    "def year_extraction(START_DATE):\n",
    "    return START_DATE.year"
   ]
  },
  {
   "cell_type": "code",
   "execution_count": 498,
   "id": "e3975075-41f5-4147-8908-286b19950b96",
   "metadata": {},
   "outputs": [],
   "source": [
    "uber['S_year']=uber['START_DATE'].apply(lambda START_DATE:START_DATE.year)"
   ]
  },
  {
   "cell_type": "code",
   "execution_count": 500,
   "id": "5a60db2f-9aa0-49f7-b7a4-9ccc441a8c34",
   "metadata": {},
   "outputs": [],
   "source": [
    "uber['S_month']=uber['START_DATE'].apply(lambda START_DATE:START_DATE.year)"
   ]
  },
  {
   "cell_type": "code",
   "execution_count": 502,
   "id": "cba4cd4e-ee2c-450b-9056-d1782f261cf7",
   "metadata": {},
   "outputs": [
    {
     "data": {
      "text/html": [
       "<div>\n",
       "<style scoped>\n",
       "    .dataframe tbody tr th:only-of-type {\n",
       "        vertical-align: middle;\n",
       "    }\n",
       "\n",
       "    .dataframe tbody tr th {\n",
       "        vertical-align: top;\n",
       "    }\n",
       "\n",
       "    .dataframe thead th {\n",
       "        text-align: right;\n",
       "    }\n",
       "</style>\n",
       "<table border=\"1\" class=\"dataframe\">\n",
       "  <thead>\n",
       "    <tr style=\"text-align: right;\">\n",
       "      <th></th>\n",
       "      <th>START_DATE</th>\n",
       "      <th>END_DATE</th>\n",
       "      <th>CATEGORY</th>\n",
       "      <th>START</th>\n",
       "      <th>STOP</th>\n",
       "      <th>MILES</th>\n",
       "      <th>PURPOSE</th>\n",
       "      <th>new</th>\n",
       "      <th>date</th>\n",
       "      <th>time</th>\n",
       "      <th>day-night</th>\n",
       "      <th>MONTH</th>\n",
       "      <th>S_DATE</th>\n",
       "      <th>S_year</th>\n",
       "      <th>S_month</th>\n",
       "      <th>E_year</th>\n",
       "      <th>E_month</th>\n",
       "    </tr>\n",
       "  </thead>\n",
       "  <tbody>\n",
       "    <tr>\n",
       "      <th>0</th>\n",
       "      <td>2016-01-01 21:11:00</td>\n",
       "      <td>2016-01-01 21:17:00</td>\n",
       "      <td>Business</td>\n",
       "      <td>Fort Pierce</td>\n",
       "      <td>Fort Pierce</td>\n",
       "      <td>5.1</td>\n",
       "      <td>Meal/Entertain</td>\n",
       "      <td>Fort Pierce</td>\n",
       "      <td>2016-01-01</td>\n",
       "      <td>21</td>\n",
       "      <td>Night</td>\n",
       "      <td>Jan</td>\n",
       "      <td>2016-01-01 21:11:00</td>\n",
       "      <td>2016</td>\n",
       "      <td>2016</td>\n",
       "      <td>2016</td>\n",
       "      <td>2016</td>\n",
       "    </tr>\n",
       "    <tr>\n",
       "      <th>2</th>\n",
       "      <td>2016-01-02 20:25:00</td>\n",
       "      <td>2016-01-02 20:38:00</td>\n",
       "      <td>Business</td>\n",
       "      <td>Fort Pierce</td>\n",
       "      <td>Fort Pierce</td>\n",
       "      <td>4.8</td>\n",
       "      <td>Errand/Supplies</td>\n",
       "      <td>Fort Pierce</td>\n",
       "      <td>2016-01-02</td>\n",
       "      <td>20</td>\n",
       "      <td>Night</td>\n",
       "      <td>Jan</td>\n",
       "      <td>2016-01-02 20:25:00</td>\n",
       "      <td>2016</td>\n",
       "      <td>2016</td>\n",
       "      <td>2016</td>\n",
       "      <td>2016</td>\n",
       "    </tr>\n",
       "    <tr>\n",
       "      <th>3</th>\n",
       "      <td>2016-01-05 17:31:00</td>\n",
       "      <td>2016-01-05 17:45:00</td>\n",
       "      <td>Business</td>\n",
       "      <td>Fort Pierce</td>\n",
       "      <td>Fort Pierce</td>\n",
       "      <td>4.7</td>\n",
       "      <td>Meeting</td>\n",
       "      <td>Fort Pierce</td>\n",
       "      <td>2016-01-05</td>\n",
       "      <td>17</td>\n",
       "      <td>Evening</td>\n",
       "      <td>Jan</td>\n",
       "      <td>2016-01-05 17:31:00</td>\n",
       "      <td>2016</td>\n",
       "      <td>2016</td>\n",
       "      <td>2016</td>\n",
       "      <td>2016</td>\n",
       "    </tr>\n",
       "    <tr>\n",
       "      <th>5</th>\n",
       "      <td>2016-01-06 17:15:00</td>\n",
       "      <td>2016-01-06 17:19:00</td>\n",
       "      <td>Business</td>\n",
       "      <td>West Palm Beach</td>\n",
       "      <td>West Palm Beach</td>\n",
       "      <td>4.3</td>\n",
       "      <td>Meal/Entertain</td>\n",
       "      <td>West Palm Beach</td>\n",
       "      <td>2016-01-06</td>\n",
       "      <td>17</td>\n",
       "      <td>Evening</td>\n",
       "      <td>Jan</td>\n",
       "      <td>2016-01-06 17:15:00</td>\n",
       "      <td>2016</td>\n",
       "      <td>2016</td>\n",
       "      <td>2016</td>\n",
       "      <td>2016</td>\n",
       "    </tr>\n",
       "    <tr>\n",
       "      <th>7</th>\n",
       "      <td>2016-01-07 13:27:00</td>\n",
       "      <td>2016-01-07 13:33:00</td>\n",
       "      <td>Business</td>\n",
       "      <td>Cary</td>\n",
       "      <td>Cary</td>\n",
       "      <td>0.8</td>\n",
       "      <td>Meeting</td>\n",
       "      <td>Cary</td>\n",
       "      <td>2016-01-07</td>\n",
       "      <td>13</td>\n",
       "      <td>Afternoon</td>\n",
       "      <td>Jan</td>\n",
       "      <td>2016-01-07 13:27:00</td>\n",
       "      <td>2016</td>\n",
       "      <td>2016</td>\n",
       "      <td>2016</td>\n",
       "      <td>2016</td>\n",
       "    </tr>\n",
       "  </tbody>\n",
       "</table>\n",
       "</div>"
      ],
      "text/plain": [
       "           START_DATE            END_DATE  CATEGORY            START  \\\n",
       "0 2016-01-01 21:11:00 2016-01-01 21:17:00  Business      Fort Pierce   \n",
       "2 2016-01-02 20:25:00 2016-01-02 20:38:00  Business      Fort Pierce   \n",
       "3 2016-01-05 17:31:00 2016-01-05 17:45:00  Business      Fort Pierce   \n",
       "5 2016-01-06 17:15:00 2016-01-06 17:19:00  Business  West Palm Beach   \n",
       "7 2016-01-07 13:27:00 2016-01-07 13:33:00  Business             Cary   \n",
       "\n",
       "              STOP  MILES          PURPOSE              new        date  time  \\\n",
       "0      Fort Pierce    5.1   Meal/Entertain      Fort Pierce  2016-01-01    21   \n",
       "2      Fort Pierce    4.8  Errand/Supplies      Fort Pierce  2016-01-02    20   \n",
       "3      Fort Pierce    4.7          Meeting      Fort Pierce  2016-01-05    17   \n",
       "5  West Palm Beach    4.3   Meal/Entertain  West Palm Beach  2016-01-06    17   \n",
       "7             Cary    0.8          Meeting             Cary  2016-01-07    13   \n",
       "\n",
       "   day-night MONTH              S_DATE  S_year  S_month  E_year  E_month  \n",
       "0      Night   Jan 2016-01-01 21:11:00    2016     2016    2016     2016  \n",
       "2      Night   Jan 2016-01-02 20:25:00    2016     2016    2016     2016  \n",
       "3    Evening   Jan 2016-01-05 17:31:00    2016     2016    2016     2016  \n",
       "5    Evening   Jan 2016-01-06 17:15:00    2016     2016    2016     2016  \n",
       "7  Afternoon   Jan 2016-01-07 13:27:00    2016     2016    2016     2016  "
      ]
     },
     "execution_count": 502,
     "metadata": {},
     "output_type": "execute_result"
    }
   ],
   "source": [
    "uber.head()"
   ]
  },
  {
   "cell_type": "code",
   "execution_count": 486,
   "id": "f0bef423-7b59-4e22-bf04-47c62006c6a0",
   "metadata": {},
   "outputs": [
    {
     "data": {
      "text/plain": [
       "0      2016-01-01 21:17:00\n",
       "2      2016-01-02 20:38:00\n",
       "3      2016-01-05 17:45:00\n",
       "5      2016-01-06 17:19:00\n",
       "7      2016-01-07 13:33:00\n",
       "65     2016-02-02 14:06:00\n",
       "66     2016-02-02 14:42:00\n",
       "69     2016-02-04 10:32:00\n",
       "70     2016-02-04 16:03:00\n",
       "71     2016-02-04 16:39:00\n",
       "73     2016-02-04 20:55:00\n",
       "188    2016-03-04 16:08:00\n",
       "289    2016-04-01 14:01:00\n",
       "403    2016-06-05 16:08:00\n",
       "516    2016-07-05 16:52:00\n",
       "800    2016-10-09 14:23:00\n",
       "892    2016-11-01 20:55:00\n",
       "1009   2016-12-01 07:59:00\n",
       "1010   2016-12-01 08:53:00\n",
       "1023   2016-12-05 19:37:00\n",
       "1024   2016-12-07 12:32:00\n",
       "1025   2016-12-07 12:46:00\n",
       "1026   2016-12-07 20:13:00\n",
       "1027   2016-12-07 21:50:00\n",
       "1028   2016-12-08 14:32:00\n",
       "1029   2016-12-08 15:02:00\n",
       "1030   2016-12-08 19:27:00\n",
       "1031   2016-12-08 21:31:00\n",
       "1034   2016-12-09 20:34:00\n",
       "1035   2016-12-09 22:57:00\n",
       "1042   2016-12-11 21:56:00\n",
       "1043   2016-12-12 13:32:00\n",
       "Name: END_DATE, dtype: datetime64[ns]"
      ]
     },
     "execution_count": 486,
     "metadata": {},
     "output_type": "execute_result"
    }
   ],
   "source": [
    "uber['END_DATE']"
   ]
  },
  {
   "cell_type": "code",
   "execution_count": null,
   "id": "56488f25-7d38-4e51-b6aa-214294f30c46",
   "metadata": {},
   "outputs": [],
   "source": [
    "uber['END_DATE'] = pd.to_datetime(uber['END_DATE'])"
   ]
  },
  {
   "cell_type": "code",
   "execution_count": 464,
   "id": "2a73c09b-9602-48ab-826e-a3c6afeec9d2",
   "metadata": {},
   "outputs": [
    {
     "data": {
      "text/plain": [
       "0      2016-01-01 21:17:00\n",
       "2      2016-01-02 20:38:00\n",
       "3      2016-01-05 17:45:00\n",
       "5      2016-01-06 17:19:00\n",
       "7      2016-01-07 13:33:00\n",
       "65     2016-02-02 14:06:00\n",
       "66     2016-02-02 14:42:00\n",
       "69     2016-02-04 10:32:00\n",
       "70     2016-02-04 16:03:00\n",
       "71     2016-02-04 16:39:00\n",
       "73     2016-02-04 20:55:00\n",
       "188    2016-03-04 16:08:00\n",
       "289    2016-04-01 14:01:00\n",
       "403    2016-06-05 16:08:00\n",
       "516    2016-07-05 16:52:00\n",
       "800    2016-10-09 14:23:00\n",
       "892    2016-11-01 20:55:00\n",
       "1009   2016-12-01 07:59:00\n",
       "1010   2016-12-01 08:53:00\n",
       "1023   2016-12-05 19:37:00\n",
       "1024   2016-12-07 12:32:00\n",
       "1025   2016-12-07 12:46:00\n",
       "1026   2016-12-07 20:13:00\n",
       "1027   2016-12-07 21:50:00\n",
       "1028   2016-12-08 14:32:00\n",
       "1029   2016-12-08 15:02:00\n",
       "1030   2016-12-08 19:27:00\n",
       "1031   2016-12-08 21:31:00\n",
       "1034   2016-12-09 20:34:00\n",
       "1035   2016-12-09 22:57:00\n",
       "1042   2016-12-11 21:56:00\n",
       "1043   2016-12-12 13:32:00\n",
       "Name: END_DATE, dtype: datetime64[ns]"
      ]
     },
     "execution_count": 464,
     "metadata": {},
     "output_type": "execute_result"
    }
   ],
   "source": [
    "uber['END_DATE']"
   ]
  },
  {
   "cell_type": "code",
   "execution_count": 466,
   "id": "cf508f23-0fac-4555-8b80-a2948b67b68c",
   "metadata": {},
   "outputs": [],
   "source": [
    "def year_extraction(END_DATE):\n",
    "    return START_DATE.year"
   ]
  },
  {
   "cell_type": "code",
   "execution_count": 468,
   "id": "a96d8397-4040-4284-8e6f-cf5986cecd54",
   "metadata": {},
   "outputs": [],
   "source": [
    "uber['E_year']=uber['END_DATE'].apply(lambda END_DATE:END_DATE.year)"
   ]
  },
  {
   "cell_type": "code",
   "execution_count": 470,
   "id": "9e632c70-f1f5-471d-a055-3e7f787e46b7",
   "metadata": {},
   "outputs": [],
   "source": [
    "uber['E_month']=uber['END_DATE'].apply(lambda END_DATE:END_DATE.year)"
   ]
  },
  {
   "cell_type": "code",
   "execution_count": 472,
   "id": "f52c91a0-c5f6-4718-a8e0-14ddac2d0048",
   "metadata": {},
   "outputs": [
    {
     "data": {
      "text/html": [
       "<div>\n",
       "<style scoped>\n",
       "    .dataframe tbody tr th:only-of-type {\n",
       "        vertical-align: middle;\n",
       "    }\n",
       "\n",
       "    .dataframe tbody tr th {\n",
       "        vertical-align: top;\n",
       "    }\n",
       "\n",
       "    .dataframe thead th {\n",
       "        text-align: right;\n",
       "    }\n",
       "</style>\n",
       "<table border=\"1\" class=\"dataframe\">\n",
       "  <thead>\n",
       "    <tr style=\"text-align: right;\">\n",
       "      <th></th>\n",
       "      <th>START_DATE</th>\n",
       "      <th>END_DATE</th>\n",
       "      <th>CATEGORY</th>\n",
       "      <th>START</th>\n",
       "      <th>STOP</th>\n",
       "      <th>MILES</th>\n",
       "      <th>PURPOSE</th>\n",
       "      <th>new</th>\n",
       "      <th>date</th>\n",
       "      <th>time</th>\n",
       "      <th>day-night</th>\n",
       "      <th>MONTH</th>\n",
       "      <th>S_DATE</th>\n",
       "      <th>S_year</th>\n",
       "      <th>S_month</th>\n",
       "      <th>E_year</th>\n",
       "      <th>E_month</th>\n",
       "    </tr>\n",
       "  </thead>\n",
       "  <tbody>\n",
       "    <tr>\n",
       "      <th>0</th>\n",
       "      <td>2016-01-01 21:11:00</td>\n",
       "      <td>2016-01-01 21:17:00</td>\n",
       "      <td>Business</td>\n",
       "      <td>Fort Pierce</td>\n",
       "      <td>Fort Pierce</td>\n",
       "      <td>5.1</td>\n",
       "      <td>Meal/Entertain</td>\n",
       "      <td>Fort Pierce</td>\n",
       "      <td>2016-01-01</td>\n",
       "      <td>21</td>\n",
       "      <td>Night</td>\n",
       "      <td>Jan</td>\n",
       "      <td>2016-01-01 21:11:00</td>\n",
       "      <td>2016</td>\n",
       "      <td>2016</td>\n",
       "      <td>2016</td>\n",
       "      <td>2016</td>\n",
       "    </tr>\n",
       "    <tr>\n",
       "      <th>2</th>\n",
       "      <td>2016-01-02 20:25:00</td>\n",
       "      <td>2016-01-02 20:38:00</td>\n",
       "      <td>Business</td>\n",
       "      <td>Fort Pierce</td>\n",
       "      <td>Fort Pierce</td>\n",
       "      <td>4.8</td>\n",
       "      <td>Errand/Supplies</td>\n",
       "      <td>Fort Pierce</td>\n",
       "      <td>2016-01-02</td>\n",
       "      <td>20</td>\n",
       "      <td>Night</td>\n",
       "      <td>Jan</td>\n",
       "      <td>2016-01-02 20:25:00</td>\n",
       "      <td>2016</td>\n",
       "      <td>2016</td>\n",
       "      <td>2016</td>\n",
       "      <td>2016</td>\n",
       "    </tr>\n",
       "    <tr>\n",
       "      <th>3</th>\n",
       "      <td>2016-01-05 17:31:00</td>\n",
       "      <td>2016-01-05 17:45:00</td>\n",
       "      <td>Business</td>\n",
       "      <td>Fort Pierce</td>\n",
       "      <td>Fort Pierce</td>\n",
       "      <td>4.7</td>\n",
       "      <td>Meeting</td>\n",
       "      <td>Fort Pierce</td>\n",
       "      <td>2016-01-05</td>\n",
       "      <td>17</td>\n",
       "      <td>Evening</td>\n",
       "      <td>Jan</td>\n",
       "      <td>2016-01-05 17:31:00</td>\n",
       "      <td>2016</td>\n",
       "      <td>2016</td>\n",
       "      <td>2016</td>\n",
       "      <td>2016</td>\n",
       "    </tr>\n",
       "    <tr>\n",
       "      <th>5</th>\n",
       "      <td>2016-01-06 17:15:00</td>\n",
       "      <td>2016-01-06 17:19:00</td>\n",
       "      <td>Business</td>\n",
       "      <td>West Palm Beach</td>\n",
       "      <td>West Palm Beach</td>\n",
       "      <td>4.3</td>\n",
       "      <td>Meal/Entertain</td>\n",
       "      <td>West Palm Beach</td>\n",
       "      <td>2016-01-06</td>\n",
       "      <td>17</td>\n",
       "      <td>Evening</td>\n",
       "      <td>Jan</td>\n",
       "      <td>2016-01-06 17:15:00</td>\n",
       "      <td>2016</td>\n",
       "      <td>2016</td>\n",
       "      <td>2016</td>\n",
       "      <td>2016</td>\n",
       "    </tr>\n",
       "    <tr>\n",
       "      <th>7</th>\n",
       "      <td>2016-01-07 13:27:00</td>\n",
       "      <td>2016-01-07 13:33:00</td>\n",
       "      <td>Business</td>\n",
       "      <td>Cary</td>\n",
       "      <td>Cary</td>\n",
       "      <td>0.8</td>\n",
       "      <td>Meeting</td>\n",
       "      <td>Cary</td>\n",
       "      <td>2016-01-07</td>\n",
       "      <td>13</td>\n",
       "      <td>Afternoon</td>\n",
       "      <td>Jan</td>\n",
       "      <td>2016-01-07 13:27:00</td>\n",
       "      <td>2016</td>\n",
       "      <td>2016</td>\n",
       "      <td>2016</td>\n",
       "      <td>2016</td>\n",
       "    </tr>\n",
       "  </tbody>\n",
       "</table>\n",
       "</div>"
      ],
      "text/plain": [
       "           START_DATE            END_DATE  CATEGORY            START  \\\n",
       "0 2016-01-01 21:11:00 2016-01-01 21:17:00  Business      Fort Pierce   \n",
       "2 2016-01-02 20:25:00 2016-01-02 20:38:00  Business      Fort Pierce   \n",
       "3 2016-01-05 17:31:00 2016-01-05 17:45:00  Business      Fort Pierce   \n",
       "5 2016-01-06 17:15:00 2016-01-06 17:19:00  Business  West Palm Beach   \n",
       "7 2016-01-07 13:27:00 2016-01-07 13:33:00  Business             Cary   \n",
       "\n",
       "              STOP  MILES          PURPOSE              new        date  time  \\\n",
       "0      Fort Pierce    5.1   Meal/Entertain      Fort Pierce  2016-01-01    21   \n",
       "2      Fort Pierce    4.8  Errand/Supplies      Fort Pierce  2016-01-02    20   \n",
       "3      Fort Pierce    4.7          Meeting      Fort Pierce  2016-01-05    17   \n",
       "5  West Palm Beach    4.3   Meal/Entertain  West Palm Beach  2016-01-06    17   \n",
       "7             Cary    0.8          Meeting             Cary  2016-01-07    13   \n",
       "\n",
       "   day-night MONTH              S_DATE  S_year  S_month  E_year  E_month  \n",
       "0      Night   Jan 2016-01-01 21:11:00    2016     2016    2016     2016  \n",
       "2      Night   Jan 2016-01-02 20:25:00    2016     2016    2016     2016  \n",
       "3    Evening   Jan 2016-01-05 17:31:00    2016     2016    2016     2016  \n",
       "5    Evening   Jan 2016-01-06 17:15:00    2016     2016    2016     2016  \n",
       "7  Afternoon   Jan 2016-01-07 13:27:00    2016     2016    2016     2016  "
      ]
     },
     "execution_count": 472,
     "metadata": {},
     "output_type": "execute_result"
    }
   ],
   "source": [
    "uber.head()"
   ]
  },
  {
   "cell_type": "markdown",
   "id": "da45fa74-a860-4fc7-92ab-468e78e1e288",
   "metadata": {},
   "source": [
    "__To find the average of MILES__"
   ]
  },
  {
   "cell_type": "code",
   "execution_count": 367,
   "id": "0bfea91f-b197-4ee6-a042-a0540bd7bb62",
   "metadata": {},
   "outputs": [
    {
     "data": {
      "text/plain": [
       "21.115397923875435"
      ]
     },
     "execution_count": 367,
     "metadata": {},
     "output_type": "execute_result"
    }
   ],
   "source": [
    "uber['MILES'].mean()"
   ]
  },
  {
   "cell_type": "markdown",
   "id": "f010c52d-a292-4aaf-b40f-d18ef9ba7806",
   "metadata": {},
   "source": [
    "__To find the maximum MILES__"
   ]
  },
  {
   "cell_type": "code",
   "execution_count": 370,
   "id": "5abdd8d1-768b-487d-b0c0-a0a92e38a512",
   "metadata": {},
   "outputs": [
    {
     "data": {
      "text/plain": [
       "12204.7"
      ]
     },
     "execution_count": 370,
     "metadata": {},
     "output_type": "execute_result"
    }
   ],
   "source": [
    "uber['MILES'].max()"
   ]
  },
  {
   "cell_type": "markdown",
   "id": "44173b87-c596-4ddf-8d18-2d76883811d2",
   "metadata": {},
   "source": [
    "__How many peoples stop is Fort Pierce ?__"
   ]
  },
  {
   "cell_type": "code",
   "execution_count": 373,
   "id": "b90430b3-026b-47f9-a6ee-5928f6b2668b",
   "metadata": {},
   "outputs": [
    {
     "data": {
      "text/plain": [
       "4"
      ]
     },
     "execution_count": 373,
     "metadata": {},
     "output_type": "execute_result"
    }
   ],
   "source": [
    "uber['STOP'].value_counts()['Fort Pierce']"
   ]
  },
  {
   "cell_type": "markdown",
   "id": "90dc40ed-4002-4b88-a946-2dd33e3d17a5",
   "metadata": {},
   "source": [
    "\n",
    "__How many peoples stop is West Palm Beach ?__"
   ]
  },
  {
   "cell_type": "code",
   "execution_count": 376,
   "id": "a70a09b3-88d4-48da-a4c8-1edccadefdee",
   "metadata": {},
   "outputs": [
    {
     "data": {
      "text/plain": [
       "2"
      ]
     },
     "execution_count": 376,
     "metadata": {},
     "output_type": "execute_result"
    }
   ],
   "source": [
    "uber['STOP'].value_counts()['West Palm Beach']"
   ]
  },
  {
   "cell_type": "markdown",
   "id": "5c937353-8ca2-4ab1-91ef-a9918c93adc2",
   "metadata": {},
   "source": [
    "__How many unique STOP are there ?__"
   ]
  },
  {
   "cell_type": "code",
   "execution_count": 379,
   "id": "eecf1cd8-1303-4f13-8789-c4e32dde6ae9",
   "metadata": {},
   "outputs": [
    {
     "data": {
      "text/plain": [
       "188"
      ]
     },
     "execution_count": 379,
     "metadata": {},
     "output_type": "execute_result"
    }
   ],
   "source": [
    "uber['STOP'].nunique()"
   ]
  },
  {
   "cell_type": "markdown",
   "id": "5c42bc29-35fa-4545-9c3c-0752bf554884",
   "metadata": {},
   "source": [
    "__To compare the value of each column__"
   ]
  },
  {
   "cell_type": "code",
   "execution_count": 382,
   "id": "4783fcd7-1037-4573-b0b9-6da241c91088",
   "metadata": {},
   "outputs": [
    {
     "data": {
      "text/plain": [
       "{'START_DATE': 1155,\n",
       " 'END_DATE': 1155,\n",
       " 'CATEGORY': 3,\n",
       " 'START': 178,\n",
       " 'STOP': 189,\n",
       " 'PURPOSE': 11}"
      ]
     },
     "execution_count": 382,
     "metadata": {},
     "output_type": "execute_result"
    }
   ],
   "source": [
    "obj = (uber.dtypes == 'object')\n",
    "object_cols = list(obj[obj].index)\n",
    "unique_values = {}\n",
    "for col in object_cols:\n",
    "  unique_values[col] = uber[col].unique().size\n",
    "unique_values"
   ]
  },
  {
   "cell_type": "markdown",
   "id": "e3e9f9f3-6e91-486f-a0df-331ddb826a44",
   "metadata": {},
   "source": [
    "__To compare only two columns we use _np.where(condition[x,y])_ syntax__"
   ]
  },
  {
   "cell_type": "markdown",
   "id": "24cbf5e5-58db-4417-81c5-75dbf89c2861",
   "metadata": {},
   "source": [
    "using this syntax we can see the common values in both colums.\n",
    "__For Example:__ Fort Pierce is common in both the columns. "
   ]
  },
  {
   "cell_type": "code",
   "execution_count": 386,
   "id": "de0ace81-36a1-42a0-96f6-1c545c8538fb",
   "metadata": {},
   "outputs": [],
   "source": [
    "uber['new']=np.where(uber['START']==uber['STOP'],uber['START'],np.nan)"
   ]
  },
  {
   "cell_type": "code",
   "execution_count": 388,
   "id": "9c655f01-4430-4a4c-89fa-04564aacf854",
   "metadata": {},
   "outputs": [
    {
     "data": {
      "text/plain": [
       "0            Fort Pierce\n",
       "1            Fort Pierce\n",
       "2            Fort Pierce\n",
       "3            Fort Pierce\n",
       "4                    NaN\n",
       "              ...       \n",
       "1151                 NaN\n",
       "1152    Unknown Location\n",
       "1153                 NaN\n",
       "1154                 NaN\n",
       "1155                 NaN\n",
       "Name: new, Length: 1156, dtype: object"
      ]
     },
     "execution_count": 388,
     "metadata": {},
     "output_type": "execute_result"
    }
   ],
   "source": [
    "uber['new']"
   ]
  },
  {
   "cell_type": "markdown",
   "id": "96974fbe-5e3d-433e-8995-0386b28a2eb2",
   "metadata": {},
   "source": [
    "__To drop the null values__"
   ]
  },
  {
   "cell_type": "code",
   "execution_count": 442,
   "id": "e203539a-26b0-433c-a6b1-924601545d2c",
   "metadata": {},
   "outputs": [],
   "source": [
    "uber.dropna(inplace=True)"
   ]
  },
  {
   "cell_type": "markdown",
   "id": "5a75c770-5054-459b-837e-ead17899b9f2",
   "metadata": {},
   "source": [
    "# Plots\n",
    "_There are various ploting libraries used in python like matplotlib, Seaborn etc...._"
   ]
  },
  {
   "cell_type": "markdown",
   "id": "735558cc-f8e7-4eec-be01-51272f57cbf0",
   "metadata": {},
   "source": [
    "## Countplot"
   ]
  },
  {
   "cell_type": "markdown",
   "id": "1c1339f6-ecb7-4adb-bbd2-bbe0da4c9790",
   "metadata": {},
   "source": [
    "_we are going to plot for __CATEGORY__ using sns.countplot()_"
   ]
  },
  {
   "cell_type": "code",
   "execution_count": 396,
   "id": "3920d3c2-3fab-473a-978d-ca4431e06cbd",
   "metadata": {},
   "outputs": [
    {
     "data": {
      "text/plain": [
       "Text(0.5, 1.0, 'category of customer')"
      ]
     },
     "execution_count": 396,
     "metadata": {},
     "output_type": "execute_result"
    },
    {
     "data": {
      "image/png": "[encoded data removed]",
      "text/plain": [
       "<Figure size 640x480 with 1 Axes>"
      ]
     },
     "metadata": {},
     "output_type": "display_data"
    }
   ],
   "source": [
    "sns.countplot(data=uber,x='CATEGORY',color='green')\n",
    "plt.xlabel('CATEGORY')\n",
    "plt.title('category of customer')"
   ]
  },
  {
   "cell_type": "code",
   "execution_count": 398,
   "id": "41edffea-1a51-4a52-b43a-ac4674d9990b",
   "metadata": {},
   "outputs": [
    {
     "data": {
      "text/plain": [
       "([0, 1, 2, 3, 4, 5, 6],\n",
       " [Text(0, 0, 'Meal/Entertain'),\n",
       "  Text(1, 0, 'Errand/Supplies'),\n",
       "  Text(2, 0, 'Meeting'),\n",
       "  Text(3, 0, 'Customer Visit'),\n",
       "  Text(4, 0, 'Temporary Site'),\n",
       "  Text(5, 0, 'Airport/Travel'),\n",
       "  Text(6, 0, 'Between Offices')])"
      ]
     },
     "execution_count": 398,
     "metadata": {},
     "output_type": "execute_result"
    },
    {
     "data": {
      "image/png": "[encoded data removed]",
      "text/plain": [
       "<Figure size 1500x500 with 1 Axes>"
      ]
     },
     "metadata": {},
     "output_type": "display_data"
    }
   ],
   "source": [
    "plt.figure(figsize=(15, 5))\n",
    "sns.countplot(data=uber, x='PURPOSE', hue='CATEGORY')\n",
    "plt.xticks(rotation=90)"
   ]
  },
  {
   "cell_type": "markdown",
   "id": "67c5a634-194f-407f-9740-f776c6191c10",
   "metadata": {},
   "source": [
    "_Splitting the __START_DATE__ to date and time column and then converting the time into four different categories __i.e.__ Morning, Afternoon, Evening, Night_"
   ]
  },
  {
   "cell_type": "code",
   "execution_count": 401,
   "id": "b6c182f6-ebe2-4a37-8440-994b18929d6e",
   "metadata": {},
   "outputs": [],
   "source": [
    "from datetime import datetime\n",
    "uber['date'] = pd.DatetimeIndex(uber['START_DATE']).date\n",
    "uber['time'] = pd.DatetimeIndex(uber['START_DATE']).hour\n",
    "uber['day-night'] = pd.cut(x=uber['time'],\n",
    "                              bins = [0,10,15,19,24],\n",
    "                              labels = ['Morning','Afternoon','Evening','Night'])"
   ]
  },
  {
   "cell_type": "markdown",
   "id": "ee1bedc6-0e38-44b2-9e27-bcf1f9be68c3",
   "metadata": {},
   "source": [
    "## Histplot"
   ]
  },
  {
   "cell_type": "markdown",
   "id": "096414ca-63c6-49a4-a370-e07854d44a1c",
   "metadata": {},
   "source": [
    "_creating a __histplot__ for __START_DATE__ using sns.histplot()_"
   ]
  },
  {
   "cell_type": "code",
   "execution_count": 405,
   "id": "a969d047-3880-46b9-bb8c-5e723da1b7dd",
   "metadata": {},
   "outputs": [
    {
     "data": {
      "text/plain": [
       "([0, 1, 2, 3],\n",
       " [Text(0, 0, 'Morning'),\n",
       "  Text(1, 0, 'Afternoon'),\n",
       "  Text(2, 0, 'Evening'),\n",
       "  Text(3, 0, 'Night')])"
      ]
     },
     "execution_count": 405,
     "metadata": {},
     "output_type": "execute_result"
    },
    {
     "data": {
      "image/png": "[encoded data removed]",
      "text/plain": [
       "<Figure size 640x480 with 1 Axes>"
      ]
     },
     "metadata": {},
     "output_type": "display_data"
    }
   ],
   "source": [
    "sns.histplot(uber['day-night'],color='violet')\n",
    "plt.xticks(rotation=90)"
   ]
  },
  {
   "cell_type": "code",
   "execution_count": 407,
   "id": "183f708d-e96d-4ea1-8c31-4bb02afab956",
   "metadata": {},
   "outputs": [
    {
     "data": {
      "text/plain": [
       "([0, 1, 2, 3, 4, 5, 6],\n",
       " [Text(0, 0, 'Meal/Entertain'),\n",
       "  Text(1, 0, 'Errand/Supplies'),\n",
       "  Text(2, 0, 'Meeting'),\n",
       "  Text(3, 0, 'Customer Visit'),\n",
       "  Text(4, 0, 'Temporary Site'),\n",
       "  Text(5, 0, 'Airport/Travel'),\n",
       "  Text(6, 0, 'Between Offices')])"
      ]
     },
     "execution_count": 407,
     "metadata": {},
     "output_type": "execute_result"
    },
    {
     "data": {
      "image/png": "[encoded data removed]",
      "text/plain": [
       "<Figure size 640x480 with 1 Axes>"
      ]
     },
     "metadata": {},
     "output_type": "display_data"
    }
   ],
   "source": [
    "sns.histplot(uber['PURPOSE'])\n",
    "plt.xticks(rotation=90)"
   ]
  },
  {
   "cell_type": "markdown",
   "id": "2443fa90-4695-4a6e-8e6e-cb0f6b10aa64",
   "metadata": {},
   "source": [
    "## Heatmap"
   ]
  },
  {
   "cell_type": "code",
   "execution_count": 410,
   "id": "f6f89093-b2ee-47a8-ac66-b0d6d079deb3",
   "metadata": {},
   "outputs": [
    {
     "data": {
      "text/plain": [
       "<Axes: >"
      ]
     },
     "execution_count": 410,
     "metadata": {},
     "output_type": "execute_result"
    },
    {
     "data": {
      "image/png": "[encoded data removed]",
      "text/plain": [
       "<Figure size 640x480 with 2 Axes>"
      ]
     },
     "metadata": {},
     "output_type": "display_data"
    }
   ],
   "source": [
    "numeric_dataset = uber.select_dtypes(include=['number'])\n",
    "sns.heatmap(numeric_dataset.corr(), \n",
    "            cmap='magma', \n",
    "            fmt='.2f', \n",
    "            linewidths=2, \n",
    "            annot=True)"
   ]
  },
  {
   "cell_type": "markdown",
   "id": "d75bb2b6-6cf4-47ad-9fca-789c48aebb11",
   "metadata": {},
   "source": [
    "_Changing the __START_DATE__ and __END_DATE__ to the date_time format_"
   ]
  },
  {
   "cell_type": "code",
   "execution_count": 413,
   "id": "b512a1c3-cd9a-4505-ad16-5a872af4033b",
   "metadata": {},
   "outputs": [],
   "source": [
    "uber['START_DATE'] = pd.to_datetime(uber['START_DATE'], \n",
    "                                       errors='coerce')\n",
    "uber['END_DATE'] = pd.to_datetime(uber['END_DATE'], \n",
    "                                     errors='coerce')"
   ]
  },
  {
   "cell_type": "code",
   "execution_count": 415,
   "id": "06e9fa5c-efb3-4208-9627-269e2517889d",
   "metadata": {},
   "outputs": [
    {
     "data": {
      "text/plain": [
       "0      2016-01-01 21:11:00\n",
       "2      2016-01-02 20:25:00\n",
       "3      2016-01-05 17:31:00\n",
       "5      2016-01-06 17:15:00\n",
       "7      2016-01-07 13:27:00\n",
       "               ...        \n",
       "1147                   NaT\n",
       "1148                   NaT\n",
       "1149                   NaT\n",
       "1150                   NaT\n",
       "1152                   NaT\n",
       "Name: START_DATE, Length: 140, dtype: datetime64[ns]"
      ]
     },
     "execution_count": 415,
     "metadata": {},
     "output_type": "execute_result"
    }
   ],
   "source": [
    "uber['START_DATE']"
   ]
  },
  {
   "cell_type": "code",
   "execution_count": 417,
   "id": "4dce57b8-5f44-4c5d-9ada-1eda0e754716",
   "metadata": {},
   "outputs": [
    {
     "data": {
      "text/plain": [
       "0      2016-01-01 21:17:00\n",
       "2      2016-01-02 20:38:00\n",
       "3      2016-01-05 17:45:00\n",
       "5      2016-01-06 17:19:00\n",
       "7      2016-01-07 13:33:00\n",
       "               ...        \n",
       "1147                   NaT\n",
       "1148                   NaT\n",
       "1149                   NaT\n",
       "1150                   NaT\n",
       "1152                   NaT\n",
       "Name: END_DATE, Length: 140, dtype: datetime64[ns]"
      ]
     },
     "execution_count": 417,
     "metadata": {},
     "output_type": "execute_result"
    }
   ],
   "source": [
    "uber['END_DATE']"
   ]
  },
  {
   "cell_type": "markdown",
   "id": "23fcedad-1091-4bc6-9dda-c8154de58dfc",
   "metadata": {},
   "source": [
    "## Lineplot"
   ]
  },
  {
   "cell_type": "code",
   "execution_count": 420,
   "id": "4732a300-6f9a-489c-9e66-27bddbf6fd01",
   "metadata": {},
   "outputs": [
    {
     "data": {
      "text/plain": [
       "[Text(0.5, 0, 'MONTHS'), Text(0, 0.5, 'VALUE COUNT')]"
      ]
     },
     "execution_count": 420,
     "metadata": {},
     "output_type": "execute_result"
    },
    {
     "data": {
      "image/png": "[encoded data removed]",
      "text/plain": [
       "<Figure size 640x480 with 1 Axes>"
      ]
     },
     "metadata": {},
     "output_type": "display_data"
    }
   ],
   "source": [
    "uber['MONTH'] = pd.DatetimeIndex(uber['START_DATE']).month\n",
    "month_label = {1.0: 'Jan', 2.0: 'Feb', 3.0: 'Mar', 4.0: 'April',\n",
    "               5.0: 'May', 6.0: 'June', 7.0: 'July', 8.0: 'Aug',\n",
    "               9.0: 'Sep', 10.0: 'Oct', 11.0: 'Nov', 12.0: 'Dec'}\n",
    "uber[\"MONTH\"] = uber.MONTH.map(month_label)\n",
    "mon = uber.MONTH.value_counts(sort=False)\n",
    "df = pd.DataFrame({\"MONTHS\": mon.values,\"VALUE COUNT\": uber.groupby('MONTH',sort=False)['MILES'].max()})\n",
    "p = sns.lineplot(data=df)\n",
    "p.set(xlabel=\"MONTHS\", ylabel=\"VALUE COUNT\")"
   ]
  },
  {
   "cell_type": "code",
   "execution_count": 422,
   "id": "cafd0b1e-a2f5-4250-bac7-e4367356cb66",
   "metadata": {},
   "outputs": [
    {
     "data": {
      "text/plain": [
       "Text(0, 0.5, 'purpose')"
      ]
     },
     "execution_count": 422,
     "metadata": {},
     "output_type": "execute_result"
    },
    {
     "data": {
      "image/png": "[encoded data removed]",
      "text/plain": [
       "<Figure size 1500x500 with 1 Axes>"
      ]
     },
     "metadata": {},
     "output_type": "display_data"
    }
   ],
   "source": [
    "plt.figure(figsize=(15,5))\n",
    "plt.plot(uber['PURPOSE'], c=\"green\", marker=\"o\")\n",
    "plt.xlabel(\"count\", c=\"red\", size=15)\n",
    "plt.ylabel(\"purpose\", c=\"red\", size=15)"
   ]
  },
  {
   "cell_type": "markdown",
   "id": "0ef2921d-8fc4-4b34-9fe7-658971d10060",
   "metadata": {},
   "source": [
    "## Boxplot"
   ]
  },
  {
   "cell_type": "code",
   "execution_count": 425,
   "id": "9247a528-0366-4150-ac68-241c9e305f50",
   "metadata": {},
   "outputs": [
    {
     "data": {
      "text/plain": [
       "<Axes: ylabel='MILES'>"
      ]
     },
     "execution_count": 425,
     "metadata": {},
     "output_type": "execute_result"
    },
    {
     "data": {
      "image/png": "[encoded data removed]",
      "text/plain": [
       "<Figure size 640x480 with 1 Axes>"
      ]
     },
     "metadata": {},
     "output_type": "display_data"
    }
   ],
   "source": [
    "sns.boxplot(uber['MILES'])"
   ]
  },
  {
   "cell_type": "markdown",
   "id": "d0ba3b14-03b4-4659-8bee-1e73b2b78a42",
   "metadata": {},
   "source": [
    "## Distplot"
   ]
  },
  {
   "cell_type": "markdown",
   "id": "d271b47b-6a19-41e8-8a68-e535da9ec1b4",
   "metadata": {},
   "source": [
    "_Since __boxplot__ is not visible we use __distplot__ for values less than 40_"
   ]
  },
  {
   "cell_type": "code",
   "execution_count": 429,
   "id": "8f48feeb-ff1b-4676-bc56-f82700211d32",
   "metadata": {},
   "outputs": [
    {
     "name": "stderr",
     "output_type": "stream",
     "text": [
      "C:\\Users\\Admin\\AppData\\Local\\Temp\\ipykernel_2540\\1180618507.py:1: UserWarning: \n",
      "\n",
      "`distplot` is a deprecated function and will be removed in seaborn v0.14.0.\n",
      "\n",
      "Please adapt your code to use either `displot` (a figure-level function with\n",
      "similar flexibility) or `histplot` (an axes-level function for histograms).\n",
      "\n",
      "For a guide to updating your code to use the new functions, please see\n",
      "https://gist.github.com/mwaskom/de44147ed2974457ad6372750bbe5751\n",
      "\n",
      "  sns.distplot(uber['MILES']<40)\n",
      "C:\\ana\\Lib\\site-packages\\seaborn\\distributions.py:2496: UserWarning: Dataset has 0 variance; skipping density estimate. Pass `warn_singular=False` to disable this warning.\n",
      "  kdeplot(**{axis: a}, ax=ax, color=kde_color, **kde_kws)\n"
     ]
    },
    {
     "data": {
      "text/plain": [
       "<Axes: xlabel='MILES', ylabel='Density'>"
      ]
     },
     "execution_count": 429,
     "metadata": {},
     "output_type": "execute_result"
    },
    {
     "data": {
      "image/png": "[encoded data removed]",
      "text/plain": [
       "<Figure size 640x480 with 1 Axes>"
      ]
     },
     "metadata": {},
     "output_type": "display_data"
    }
   ],
   "source": [
    "sns.distplot(uber['MILES']<40)"
   ]
  },
  {
   "cell_type": "markdown",
   "id": "b9dfb13e-c250-4f00-882c-f6da4cda30da",
   "metadata": {},
   "source": [
    "# TRANSPOSE"
   ]
  },
  {
   "cell_type": "code",
   "execution_count": 432,
   "id": "3283a2d9-1ae9-4e3f-bf06-eb5fde94c239",
   "metadata": {},
   "outputs": [
    {
     "data": {
      "text/html": [
       "<div>\n",
       "<style scoped>\n",
       "    .dataframe tbody tr th:only-of-type {\n",
       "        vertical-align: middle;\n",
       "    }\n",
       "\n",
       "    .dataframe tbody tr th {\n",
       "        vertical-align: top;\n",
       "    }\n",
       "\n",
       "    .dataframe thead th {\n",
       "        text-align: right;\n",
       "    }\n",
       "</style>\n",
       "<table border=\"1\" class=\"dataframe\">\n",
       "  <thead>\n",
       "    <tr style=\"text-align: right;\">\n",
       "      <th></th>\n",
       "      <th>START_DATE</th>\n",
       "      <th>END_DATE</th>\n",
       "      <th>CATEGORY</th>\n",
       "      <th>START</th>\n",
       "      <th>STOP</th>\n",
       "      <th>MILES</th>\n",
       "      <th>PURPOSE</th>\n",
       "      <th>new</th>\n",
       "      <th>date</th>\n",
       "      <th>time</th>\n",
       "      <th>day-night</th>\n",
       "      <th>MONTH</th>\n",
       "    </tr>\n",
       "  </thead>\n",
       "  <tbody>\n",
       "    <tr>\n",
       "      <th>0</th>\n",
       "      <td>2016-01-01 21:11:00</td>\n",
       "      <td>2016-01-01 21:17:00</td>\n",
       "      <td>Business</td>\n",
       "      <td>Fort Pierce</td>\n",
       "      <td>Fort Pierce</td>\n",
       "      <td>5.1</td>\n",
       "      <td>Meal/Entertain</td>\n",
       "      <td>Fort Pierce</td>\n",
       "      <td>2016-01-01</td>\n",
       "      <td>21</td>\n",
       "      <td>Night</td>\n",
       "      <td>Jan</td>\n",
       "    </tr>\n",
       "    <tr>\n",
       "      <th>2</th>\n",
       "      <td>2016-01-02 20:25:00</td>\n",
       "      <td>2016-01-02 20:38:00</td>\n",
       "      <td>Business</td>\n",
       "      <td>Fort Pierce</td>\n",
       "      <td>Fort Pierce</td>\n",
       "      <td>4.8</td>\n",
       "      <td>Errand/Supplies</td>\n",
       "      <td>Fort Pierce</td>\n",
       "      <td>2016-01-02</td>\n",
       "      <td>20</td>\n",
       "      <td>Night</td>\n",
       "      <td>Jan</td>\n",
       "    </tr>\n",
       "    <tr>\n",
       "      <th>3</th>\n",
       "      <td>2016-01-05 17:31:00</td>\n",
       "      <td>2016-01-05 17:45:00</td>\n",
       "      <td>Business</td>\n",
       "      <td>Fort Pierce</td>\n",
       "      <td>Fort Pierce</td>\n",
       "      <td>4.7</td>\n",
       "      <td>Meeting</td>\n",
       "      <td>Fort Pierce</td>\n",
       "      <td>2016-01-05</td>\n",
       "      <td>17</td>\n",
       "      <td>Evening</td>\n",
       "      <td>Jan</td>\n",
       "    </tr>\n",
       "    <tr>\n",
       "      <th>5</th>\n",
       "      <td>2016-01-06 17:15:00</td>\n",
       "      <td>2016-01-06 17:19:00</td>\n",
       "      <td>Business</td>\n",
       "      <td>West Palm Beach</td>\n",
       "      <td>West Palm Beach</td>\n",
       "      <td>4.3</td>\n",
       "      <td>Meal/Entertain</td>\n",
       "      <td>West Palm Beach</td>\n",
       "      <td>2016-01-06</td>\n",
       "      <td>17</td>\n",
       "      <td>Evening</td>\n",
       "      <td>Jan</td>\n",
       "    </tr>\n",
       "    <tr>\n",
       "      <th>7</th>\n",
       "      <td>2016-01-07 13:27:00</td>\n",
       "      <td>2016-01-07 13:33:00</td>\n",
       "      <td>Business</td>\n",
       "      <td>Cary</td>\n",
       "      <td>Cary</td>\n",
       "      <td>0.8</td>\n",
       "      <td>Meeting</td>\n",
       "      <td>Cary</td>\n",
       "      <td>2016-01-07</td>\n",
       "      <td>13</td>\n",
       "      <td>Afternoon</td>\n",
       "      <td>Jan</td>\n",
       "    </tr>\n",
       "  </tbody>\n",
       "</table>\n",
       "</div>"
      ],
      "text/plain": [
       "           START_DATE            END_DATE  CATEGORY            START  \\\n",
       "0 2016-01-01 21:11:00 2016-01-01 21:17:00  Business      Fort Pierce   \n",
       "2 2016-01-02 20:25:00 2016-01-02 20:38:00  Business      Fort Pierce   \n",
       "3 2016-01-05 17:31:00 2016-01-05 17:45:00  Business      Fort Pierce   \n",
       "5 2016-01-06 17:15:00 2016-01-06 17:19:00  Business  West Palm Beach   \n",
       "7 2016-01-07 13:27:00 2016-01-07 13:33:00  Business             Cary   \n",
       "\n",
       "              STOP  MILES          PURPOSE              new        date  time  \\\n",
       "0      Fort Pierce    5.1   Meal/Entertain      Fort Pierce  2016-01-01    21   \n",
       "2      Fort Pierce    4.8  Errand/Supplies      Fort Pierce  2016-01-02    20   \n",
       "3      Fort Pierce    4.7          Meeting      Fort Pierce  2016-01-05    17   \n",
       "5  West Palm Beach    4.3   Meal/Entertain  West Palm Beach  2016-01-06    17   \n",
       "7             Cary    0.8          Meeting             Cary  2016-01-07    13   \n",
       "\n",
       "   day-night MONTH  \n",
       "0      Night   Jan  \n",
       "2      Night   Jan  \n",
       "3    Evening   Jan  \n",
       "5    Evening   Jan  \n",
       "7  Afternoon   Jan  "
      ]
     },
     "execution_count": 432,
     "metadata": {},
     "output_type": "execute_result"
    }
   ],
   "source": [
    "uber.head()"
   ]
  },
  {
   "cell_type": "code",
   "execution_count": 434,
   "id": "bb41aa09-b901-4f8d-ace5-10b9d9c60aa9",
   "metadata": {},
   "outputs": [
    {
     "data": {
      "text/html": [
       "<div>\n",
       "<style scoped>\n",
       "    .dataframe tbody tr th:only-of-type {\n",
       "        vertical-align: middle;\n",
       "    }\n",
       "\n",
       "    .dataframe tbody tr th {\n",
       "        vertical-align: top;\n",
       "    }\n",
       "\n",
       "    .dataframe thead th {\n",
       "        text-align: right;\n",
       "    }\n",
       "</style>\n",
       "<table border=\"1\" class=\"dataframe\">\n",
       "  <thead>\n",
       "    <tr style=\"text-align: right;\">\n",
       "      <th></th>\n",
       "      <th>0</th>\n",
       "      <th>2</th>\n",
       "      <th>3</th>\n",
       "      <th>5</th>\n",
       "      <th>7</th>\n",
       "      <th>25</th>\n",
       "      <th>30</th>\n",
       "      <th>37</th>\n",
       "      <th>38</th>\n",
       "      <th>39</th>\n",
       "      <th>...</th>\n",
       "      <th>1138</th>\n",
       "      <th>1139</th>\n",
       "      <th>1142</th>\n",
       "      <th>1145</th>\n",
       "      <th>1146</th>\n",
       "      <th>1147</th>\n",
       "      <th>1148</th>\n",
       "      <th>1149</th>\n",
       "      <th>1150</th>\n",
       "      <th>1152</th>\n",
       "    </tr>\n",
       "  </thead>\n",
       "  <tbody>\n",
       "    <tr>\n",
       "      <th>START_DATE</th>\n",
       "      <td>2016-01-01 21:11:00</td>\n",
       "      <td>2016-01-02 20:25:00</td>\n",
       "      <td>2016-01-05 17:31:00</td>\n",
       "      <td>2016-01-06 17:15:00</td>\n",
       "      <td>2016-01-07 13:27:00</td>\n",
       "      <td>NaT</td>\n",
       "      <td>NaT</td>\n",
       "      <td>NaT</td>\n",
       "      <td>NaT</td>\n",
       "      <td>NaT</td>\n",
       "      <td>...</td>\n",
       "      <td>NaT</td>\n",
       "      <td>NaT</td>\n",
       "      <td>NaT</td>\n",
       "      <td>NaT</td>\n",
       "      <td>NaT</td>\n",
       "      <td>NaT</td>\n",
       "      <td>NaT</td>\n",
       "      <td>NaT</td>\n",
       "      <td>NaT</td>\n",
       "      <td>NaT</td>\n",
       "    </tr>\n",
       "    <tr>\n",
       "      <th>END_DATE</th>\n",
       "      <td>2016-01-01 21:17:00</td>\n",
       "      <td>2016-01-02 20:38:00</td>\n",
       "      <td>2016-01-05 17:45:00</td>\n",
       "      <td>2016-01-06 17:19:00</td>\n",
       "      <td>2016-01-07 13:33:00</td>\n",
       "      <td>NaT</td>\n",
       "      <td>NaT</td>\n",
       "      <td>NaT</td>\n",
       "      <td>NaT</td>\n",
       "      <td>NaT</td>\n",
       "      <td>...</td>\n",
       "      <td>NaT</td>\n",
       "      <td>NaT</td>\n",
       "      <td>NaT</td>\n",
       "      <td>NaT</td>\n",
       "      <td>NaT</td>\n",
       "      <td>NaT</td>\n",
       "      <td>NaT</td>\n",
       "      <td>NaT</td>\n",
       "      <td>NaT</td>\n",
       "      <td>NaT</td>\n",
       "    </tr>\n",
       "    <tr>\n",
       "      <th>CATEGORY</th>\n",
       "      <td>Business</td>\n",
       "      <td>Business</td>\n",
       "      <td>Business</td>\n",
       "      <td>Business</td>\n",
       "      <td>Business</td>\n",
       "      <td>Business</td>\n",
       "      <td>Business</td>\n",
       "      <td>Business</td>\n",
       "      <td>Business</td>\n",
       "      <td>Business</td>\n",
       "      <td>...</td>\n",
       "      <td>Business</td>\n",
       "      <td>Business</td>\n",
       "      <td>Business</td>\n",
       "      <td>Business</td>\n",
       "      <td>Business</td>\n",
       "      <td>Business</td>\n",
       "      <td>Business</td>\n",
       "      <td>Business</td>\n",
       "      <td>Business</td>\n",
       "      <td>Business</td>\n",
       "    </tr>\n",
       "    <tr>\n",
       "      <th>START</th>\n",
       "      <td>Fort Pierce</td>\n",
       "      <td>Fort Pierce</td>\n",
       "      <td>Fort Pierce</td>\n",
       "      <td>West Palm Beach</td>\n",
       "      <td>Cary</td>\n",
       "      <td>Houston</td>\n",
       "      <td>Cary</td>\n",
       "      <td>Cary</td>\n",
       "      <td>Cary</td>\n",
       "      <td>Cary</td>\n",
       "      <td>...</td>\n",
       "      <td>Kar?chi</td>\n",
       "      <td>Kar?chi</td>\n",
       "      <td>Kar?chi</td>\n",
       "      <td>Kar?chi</td>\n",
       "      <td>Kar?chi</td>\n",
       "      <td>Kar?chi</td>\n",
       "      <td>Kar?chi</td>\n",
       "      <td>Kar?chi</td>\n",
       "      <td>Kar?chi</td>\n",
       "      <td>Unknown Location</td>\n",
       "    </tr>\n",
       "    <tr>\n",
       "      <th>STOP</th>\n",
       "      <td>Fort Pierce</td>\n",
       "      <td>Fort Pierce</td>\n",
       "      <td>Fort Pierce</td>\n",
       "      <td>West Palm Beach</td>\n",
       "      <td>Cary</td>\n",
       "      <td>Houston</td>\n",
       "      <td>Cary</td>\n",
       "      <td>Cary</td>\n",
       "      <td>Cary</td>\n",
       "      <td>Cary</td>\n",
       "      <td>...</td>\n",
       "      <td>Kar?chi</td>\n",
       "      <td>Kar?chi</td>\n",
       "      <td>Kar?chi</td>\n",
       "      <td>Kar?chi</td>\n",
       "      <td>Kar?chi</td>\n",
       "      <td>Kar?chi</td>\n",
       "      <td>Kar?chi</td>\n",
       "      <td>Kar?chi</td>\n",
       "      <td>Kar?chi</td>\n",
       "      <td>Unknown Location</td>\n",
       "    </tr>\n",
       "    <tr>\n",
       "      <th>MILES</th>\n",
       "      <td>5.1</td>\n",
       "      <td>4.8</td>\n",
       "      <td>4.7</td>\n",
       "      <td>4.3</td>\n",
       "      <td>0.8</td>\n",
       "      <td>21.9</td>\n",
       "      <td>4.8</td>\n",
       "      <td>1.6</td>\n",
       "      <td>2.4</td>\n",
       "      <td>1.0</td>\n",
       "      <td>...</td>\n",
       "      <td>6.1</td>\n",
       "      <td>1.3</td>\n",
       "      <td>7.2</td>\n",
       "      <td>2.8</td>\n",
       "      <td>2.9</td>\n",
       "      <td>4.6</td>\n",
       "      <td>4.6</td>\n",
       "      <td>0.8</td>\n",
       "      <td>0.7</td>\n",
       "      <td>16.2</td>\n",
       "    </tr>\n",
       "    <tr>\n",
       "      <th>PURPOSE</th>\n",
       "      <td>Meal/Entertain</td>\n",
       "      <td>Errand/Supplies</td>\n",
       "      <td>Meeting</td>\n",
       "      <td>Meal/Entertain</td>\n",
       "      <td>Meeting</td>\n",
       "      <td>Customer Visit</td>\n",
       "      <td>Meal/Entertain</td>\n",
       "      <td>Errand/Supplies</td>\n",
       "      <td>Meal/Entertain</td>\n",
       "      <td>Meal/Entertain</td>\n",
       "      <td>...</td>\n",
       "      <td>Between Offices</td>\n",
       "      <td>Errand/Supplies</td>\n",
       "      <td>Meeting</td>\n",
       "      <td>Errand/Supplies</td>\n",
       "      <td>Errand/Supplies</td>\n",
       "      <td>Errand/Supplies</td>\n",
       "      <td>Meeting</td>\n",
       "      <td>Customer Visit</td>\n",
       "      <td>Meeting</td>\n",
       "      <td>Meeting</td>\n",
       "    </tr>\n",
       "    <tr>\n",
       "      <th>new</th>\n",
       "      <td>Fort Pierce</td>\n",
       "      <td>Fort Pierce</td>\n",
       "      <td>Fort Pierce</td>\n",
       "      <td>West Palm Beach</td>\n",
       "      <td>Cary</td>\n",
       "      <td>Houston</td>\n",
       "      <td>Cary</td>\n",
       "      <td>Cary</td>\n",
       "      <td>Cary</td>\n",
       "      <td>Cary</td>\n",
       "      <td>...</td>\n",
       "      <td>Kar?chi</td>\n",
       "      <td>Kar?chi</td>\n",
       "      <td>Kar?chi</td>\n",
       "      <td>Kar?chi</td>\n",
       "      <td>Kar?chi</td>\n",
       "      <td>Kar?chi</td>\n",
       "      <td>Kar?chi</td>\n",
       "      <td>Kar?chi</td>\n",
       "      <td>Kar?chi</td>\n",
       "      <td>Unknown Location</td>\n",
       "    </tr>\n",
       "    <tr>\n",
       "      <th>date</th>\n",
       "      <td>2016-01-01</td>\n",
       "      <td>2016-01-02</td>\n",
       "      <td>2016-01-05</td>\n",
       "      <td>2016-01-06</td>\n",
       "      <td>2016-01-07</td>\n",
       "      <td>2016-01-14</td>\n",
       "      <td>2016-01-18</td>\n",
       "      <td>2016-01-21</td>\n",
       "      <td>2016-01-21</td>\n",
       "      <td>2016-01-21</td>\n",
       "      <td>...</td>\n",
       "      <td>2016-12-29</td>\n",
       "      <td>2016-12-29</td>\n",
       "      <td>2016-12-29</td>\n",
       "      <td>2016-12-30</td>\n",
       "      <td>2016-12-30</td>\n",
       "      <td>2016-12-30</td>\n",
       "      <td>2016-12-30</td>\n",
       "      <td>2016-12-30</td>\n",
       "      <td>2016-12-31</td>\n",
       "      <td>2016-12-31</td>\n",
       "    </tr>\n",
       "    <tr>\n",
       "      <th>time</th>\n",
       "      <td>21</td>\n",
       "      <td>20</td>\n",
       "      <td>17</td>\n",
       "      <td>17</td>\n",
       "      <td>13</td>\n",
       "      <td>16</td>\n",
       "      <td>14</td>\n",
       "      <td>14</td>\n",
       "      <td>14</td>\n",
       "      <td>16</td>\n",
       "      <td>...</td>\n",
       "      <td>14</td>\n",
       "      <td>15</td>\n",
       "      <td>20</td>\n",
       "      <td>10</td>\n",
       "      <td>11</td>\n",
       "      <td>15</td>\n",
       "      <td>16</td>\n",
       "      <td>23</td>\n",
       "      <td>1</td>\n",
       "      <td>15</td>\n",
       "    </tr>\n",
       "    <tr>\n",
       "      <th>day-night</th>\n",
       "      <td>Night</td>\n",
       "      <td>Night</td>\n",
       "      <td>Evening</td>\n",
       "      <td>Evening</td>\n",
       "      <td>Afternoon</td>\n",
       "      <td>Evening</td>\n",
       "      <td>Afternoon</td>\n",
       "      <td>Afternoon</td>\n",
       "      <td>Afternoon</td>\n",
       "      <td>Evening</td>\n",
       "      <td>...</td>\n",
       "      <td>Afternoon</td>\n",
       "      <td>Afternoon</td>\n",
       "      <td>Night</td>\n",
       "      <td>Morning</td>\n",
       "      <td>Afternoon</td>\n",
       "      <td>Afternoon</td>\n",
       "      <td>Evening</td>\n",
       "      <td>Night</td>\n",
       "      <td>Morning</td>\n",
       "      <td>Afternoon</td>\n",
       "    </tr>\n",
       "    <tr>\n",
       "      <th>MONTH</th>\n",
       "      <td>Jan</td>\n",
       "      <td>Jan</td>\n",
       "      <td>Jan</td>\n",
       "      <td>Jan</td>\n",
       "      <td>Jan</td>\n",
       "      <td>NaN</td>\n",
       "      <td>NaN</td>\n",
       "      <td>NaN</td>\n",
       "      <td>NaN</td>\n",
       "      <td>NaN</td>\n",
       "      <td>...</td>\n",
       "      <td>NaN</td>\n",
       "      <td>NaN</td>\n",
       "      <td>NaN</td>\n",
       "      <td>NaN</td>\n",
       "      <td>NaN</td>\n",
       "      <td>NaN</td>\n",
       "      <td>NaN</td>\n",
       "      <td>NaN</td>\n",
       "      <td>NaN</td>\n",
       "      <td>NaN</td>\n",
       "    </tr>\n",
       "  </tbody>\n",
       "</table>\n",
       "<p>12 rows × 140 columns</p>\n",
       "</div>"
      ],
      "text/plain": [
       "                           0                    2                    3     \\\n",
       "START_DATE  2016-01-01 21:11:00  2016-01-02 20:25:00  2016-01-05 17:31:00   \n",
       "END_DATE    2016-01-01 21:17:00  2016-01-02 20:38:00  2016-01-05 17:45:00   \n",
       "CATEGORY               Business             Business             Business   \n",
       "START               Fort Pierce          Fort Pierce          Fort Pierce   \n",
       "STOP                Fort Pierce          Fort Pierce          Fort Pierce   \n",
       "MILES                       5.1                  4.8                  4.7   \n",
       "PURPOSE          Meal/Entertain      Errand/Supplies              Meeting   \n",
       "new                 Fort Pierce          Fort Pierce          Fort Pierce   \n",
       "date                 2016-01-01           2016-01-02           2016-01-05   \n",
       "time                         21                   20                   17   \n",
       "day-night                 Night                Night              Evening   \n",
       "MONTH                       Jan                  Jan                  Jan   \n",
       "\n",
       "                           5                    7               25    \\\n",
       "START_DATE  2016-01-06 17:15:00  2016-01-07 13:27:00             NaT   \n",
       "END_DATE    2016-01-06 17:19:00  2016-01-07 13:33:00             NaT   \n",
       "CATEGORY               Business             Business        Business   \n",
       "START           West Palm Beach                 Cary         Houston   \n",
       "STOP            West Palm Beach                 Cary         Houston   \n",
       "MILES                       4.3                  0.8            21.9   \n",
       "PURPOSE          Meal/Entertain              Meeting  Customer Visit   \n",
       "new             West Palm Beach                 Cary         Houston   \n",
       "date                 2016-01-06           2016-01-07      2016-01-14   \n",
       "time                         17                   13              16   \n",
       "day-night               Evening            Afternoon         Evening   \n",
       "MONTH                       Jan                  Jan             NaN   \n",
       "\n",
       "                      30               37              38              39    \\\n",
       "START_DATE             NaT              NaT             NaT             NaT   \n",
       "END_DATE               NaT              NaT             NaT             NaT   \n",
       "CATEGORY          Business         Business        Business        Business   \n",
       "START                 Cary             Cary            Cary            Cary   \n",
       "STOP                  Cary             Cary            Cary            Cary   \n",
       "MILES                  4.8              1.6             2.4             1.0   \n",
       "PURPOSE     Meal/Entertain  Errand/Supplies  Meal/Entertain  Meal/Entertain   \n",
       "new                   Cary             Cary            Cary            Cary   \n",
       "date            2016-01-18       2016-01-21      2016-01-21      2016-01-21   \n",
       "time                    14               14              14              16   \n",
       "day-night        Afternoon        Afternoon       Afternoon         Evening   \n",
       "MONTH                  NaN              NaN             NaN             NaN   \n",
       "\n",
       "            ...             1138             1139        1142  \\\n",
       "START_DATE  ...              NaT              NaT         NaT   \n",
       "END_DATE    ...              NaT              NaT         NaT   \n",
       "CATEGORY    ...         Business         Business    Business   \n",
       "START       ...          Kar?chi          Kar?chi     Kar?chi   \n",
       "STOP        ...          Kar?chi          Kar?chi     Kar?chi   \n",
       "MILES       ...              6.1              1.3         7.2   \n",
       "PURPOSE     ...  Between Offices  Errand/Supplies     Meeting   \n",
       "new         ...          Kar?chi          Kar?chi     Kar?chi   \n",
       "date        ...       2016-12-29       2016-12-29  2016-12-29   \n",
       "time        ...               14               15          20   \n",
       "day-night   ...        Afternoon        Afternoon       Night   \n",
       "MONTH       ...              NaN              NaN         NaN   \n",
       "\n",
       "                       1145             1146             1147        1148  \\\n",
       "START_DATE              NaT              NaT              NaT         NaT   \n",
       "END_DATE                NaT              NaT              NaT         NaT   \n",
       "CATEGORY           Business         Business         Business    Business   \n",
       "START               Kar?chi          Kar?chi          Kar?chi     Kar?chi   \n",
       "STOP                Kar?chi          Kar?chi          Kar?chi     Kar?chi   \n",
       "MILES                   2.8              2.9              4.6         4.6   \n",
       "PURPOSE     Errand/Supplies  Errand/Supplies  Errand/Supplies     Meeting   \n",
       "new                 Kar?chi          Kar?chi          Kar?chi     Kar?chi   \n",
       "date             2016-12-30       2016-12-30       2016-12-30  2016-12-30   \n",
       "time                     10               11               15          16   \n",
       "day-night           Morning        Afternoon        Afternoon     Evening   \n",
       "MONTH                   NaN              NaN              NaN         NaN   \n",
       "\n",
       "                      1149        1150              1152  \n",
       "START_DATE             NaT         NaT               NaT  \n",
       "END_DATE               NaT         NaT               NaT  \n",
       "CATEGORY          Business    Business          Business  \n",
       "START              Kar?chi     Kar?chi  Unknown Location  \n",
       "STOP               Kar?chi     Kar?chi  Unknown Location  \n",
       "MILES                  0.8         0.7              16.2  \n",
       "PURPOSE     Customer Visit     Meeting           Meeting  \n",
       "new                Kar?chi     Kar?chi  Unknown Location  \n",
       "date            2016-12-30  2016-12-31        2016-12-31  \n",
       "time                    23           1                15  \n",
       "day-night            Night     Morning         Afternoon  \n",
       "MONTH                  NaN         NaN               NaN  \n",
       "\n",
       "[12 rows x 140 columns]"
      ]
     },
     "execution_count": 434,
     "metadata": {},
     "output_type": "execute_result"
    }
   ],
   "source": [
    "uber.transpose()"
   ]
  },
  {
   "cell_type": "markdown",
   "id": "9a7ef4d4-fd0d-47b0-8c43-e0406dc672a0",
   "metadata": {},
   "source": [
    "__to describe each row we use _describe()_ syntax__"
   ]
  },
  {
   "cell_type": "code",
   "execution_count": 437,
   "id": "6aa49423-256f-43a6-9227-23f8a4603264",
   "metadata": {},
   "outputs": [
    {
     "data": {
      "text/html": [
       "<div>\n",
       "<style scoped>\n",
       "    .dataframe tbody tr th:only-of-type {\n",
       "        vertical-align: middle;\n",
       "    }\n",
       "\n",
       "    .dataframe tbody tr th {\n",
       "        vertical-align: top;\n",
       "    }\n",
       "\n",
       "    .dataframe thead th {\n",
       "        text-align: right;\n",
       "    }\n",
       "</style>\n",
       "<table border=\"1\" class=\"dataframe\">\n",
       "  <thead>\n",
       "    <tr style=\"text-align: right;\">\n",
       "      <th></th>\n",
       "      <th>count</th>\n",
       "      <th>mean</th>\n",
       "      <th>min</th>\n",
       "      <th>25%</th>\n",
       "      <th>50%</th>\n",
       "      <th>75%</th>\n",
       "      <th>max</th>\n",
       "      <th>std</th>\n",
       "    </tr>\n",
       "  </thead>\n",
       "  <tbody>\n",
       "    <tr>\n",
       "      <th>START_DATE</th>\n",
       "      <td>33</td>\n",
       "      <td>2016-07-19 18:10:43.636363520</td>\n",
       "      <td>2016-01-01 21:11:00</td>\n",
       "      <td>2016-02-04 15:59:00</td>\n",
       "      <td>2016-10-09 14:04:00</td>\n",
       "      <td>2016-12-07 21:13:00</td>\n",
       "      <td>2016-12-12 13:22:00</td>\n",
       "      <td>NaN</td>\n",
       "    </tr>\n",
       "    <tr>\n",
       "      <th>END_DATE</th>\n",
       "      <td>33</td>\n",
       "      <td>2016-07-19 18:24:18.181818368</td>\n",
       "      <td>2016-01-01 21:17:00</td>\n",
       "      <td>2016-02-04 16:03:00</td>\n",
       "      <td>2016-10-09 14:23:00</td>\n",
       "      <td>2016-12-07 21:50:00</td>\n",
       "      <td>2016-12-12 13:32:00</td>\n",
       "      <td>NaN</td>\n",
       "    </tr>\n",
       "    <tr>\n",
       "      <th>MILES</th>\n",
       "      <td>140.0</td>\n",
       "      <td>5.870714</td>\n",
       "      <td>0.5</td>\n",
       "      <td>2.0</td>\n",
       "      <td>4.05</td>\n",
       "      <td>6.45</td>\n",
       "      <td>39.2</td>\n",
       "      <td>6.469024</td>\n",
       "    </tr>\n",
       "    <tr>\n",
       "      <th>time</th>\n",
       "      <td>140.0</td>\n",
       "      <td>14.407143</td>\n",
       "      <td>0.0</td>\n",
       "      <td>12.0</td>\n",
       "      <td>15.0</td>\n",
       "      <td>18.0</td>\n",
       "      <td>23.0</td>\n",
       "      <td>4.779899</td>\n",
       "    </tr>\n",
       "  </tbody>\n",
       "</table>\n",
       "</div>"
      ],
      "text/plain": [
       "            count                           mean                  min  \\\n",
       "START_DATE     33  2016-07-19 18:10:43.636363520  2016-01-01 21:11:00   \n",
       "END_DATE       33  2016-07-19 18:24:18.181818368  2016-01-01 21:17:00   \n",
       "MILES       140.0                       5.870714                  0.5   \n",
       "time        140.0                      14.407143                  0.0   \n",
       "\n",
       "                            25%                  50%                  75%  \\\n",
       "START_DATE  2016-02-04 15:59:00  2016-10-09 14:04:00  2016-12-07 21:13:00   \n",
       "END_DATE    2016-02-04 16:03:00  2016-10-09 14:23:00  2016-12-07 21:50:00   \n",
       "MILES                       2.0                 4.05                 6.45   \n",
       "time                       12.0                 15.0                 18.0   \n",
       "\n",
       "                            max       std  \n",
       "START_DATE  2016-12-12 13:22:00       NaN  \n",
       "END_DATE    2016-12-12 13:32:00       NaN  \n",
       "MILES                      39.2  6.469024  \n",
       "time                       23.0  4.779899  "
      ]
     },
     "execution_count": 437,
     "metadata": {},
     "output_type": "execute_result"
    }
   ],
   "source": [
    "uber.describe().transpose()"
   ]
  },
  {
   "cell_type": "code",
   "execution_count": null,
   "id": "baec37c2-34cd-4b95-9e63-2bb0ce07f391",
   "metadata": {},
   "outputs": [],
   "source": []
  }
 ],
 "metadata": {
  "kernelspec": {
   "display_name": "Python 3 (ipykernel)",
   "language": "python",
   "name": "python3"
  },
  "language_info": {
   "codemirror_mode": {
    "name": "ipython",
    "version": 3
   },
   "file_extension": ".py",
   "mimetype": "text/x-python",
   "name": "python",
   "nbconvert_exporter": "python",
   "pygments_lexer": "ipython3",
   "version": "3.12.4"
  }
 },
 "nbformat": 4,
 "nbformat_minor": 5
}
